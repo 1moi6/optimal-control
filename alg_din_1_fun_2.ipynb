{
 "cells": [
  {
   "cell_type": "code",
   "execution_count": 4,
   "metadata": {},
   "outputs": [
    {
     "data": {
      "text/latex": [
       "$\\displaystyle \\frac{e \\left(3 g - 2 x_{0}\\right)}{3}$"
      ],
      "text/plain": [
       "e*(3*g - 2*x0)/3"
      ]
     },
     "execution_count": 4,
     "metadata": {},
     "output_type": "execute_result"
    }
   ],
   "source": [
    "# ex 2 - primeira integral\n",
    "import sympy as sp\n",
    "\n",
    "x = sp.Symbol('x')\n",
    "x0 = sp.Symbol('x0')\n",
    "e = sp.Symbol('e')\n",
    "g = sp.Symbol('g')\n",
    "x1, x2 = x0-e,x0+e\n",
    "f1 = x*(x*(x-x1)/e-g)*(1/e)\n",
    "f2 = x*(x*(x2-x)/e-g)*(1/e)\n",
    "int1 = sp.integrate(f1, (x,x1,x0))\n",
    "int2 = sp.integrate(f2, (x,x0,x2))\n",
    "res = sp.simplify(int1-int2)\n",
    "res\n"
   ]
  },
  {
   "cell_type": "code",
   "execution_count": 5,
   "metadata": {},
   "outputs": [
    {
     "data": {
      "text/latex": [
       "$\\displaystyle - \\frac{2 e}{3}$"
      ],
      "text/plain": [
       "-2*e/3"
      ]
     },
     "execution_count": 5,
     "metadata": {},
     "output_type": "execute_result"
    }
   ],
   "source": [
    "# ex 1 - segunda integral\n",
    "import sympy as sp\n",
    "\n",
    "x = sp.Symbol('x')\n",
    "x0 = sp.Symbol('x0')\n",
    "e = sp.Symbol('e')\n",
    "g = sp.Symbol('g')\n",
    "x1, x2 = x0-e,x0+e\n",
    "f1 = (2*x*(x-x1)/e-g)*(1/e)\n",
    "f2 = (2*x*(x2-x)/e-g)*(1/e)\n",
    "int1 = sp.integrate(f1, (x,x1,x0))\n",
    "int2 = sp.integrate(f2, (x,x0,x2))\n",
    "res = sp.simplify(int1-int2)\n",
    "res"
   ]
  },
  {
   "cell_type": "code",
   "execution_count": 6,
   "metadata": {},
   "outputs": [
    {
     "data": {
      "text/latex": [
       "$\\displaystyle 0$"
      ],
      "text/plain": [
       "0"
      ]
     },
     "execution_count": 6,
     "metadata": {},
     "output_type": "execute_result"
    }
   ],
   "source": [
    "# ex 1 - terceira integral\n",
    "import sympy as sp\n",
    "\n",
    "x = sp.Symbol('x')\n",
    "x0 = sp.Symbol('x0')\n",
    "e = sp.Symbol('e')\n",
    "g = sp.Symbol('g')\n",
    "x1, x2 = x0-e,x0+e\n",
    "f1 = ((x-x1)/e-g)*(1/e)\n",
    "f2 = ((x2-x)/e-g)*(1/e)\n",
    "int1 = sp.integrate(f1, (x,x1,x0))\n",
    "int2 = sp.integrate(f2, (x,x0,x2))\n",
    "res = sp.simplify(int1-int2)\n",
    "res"
   ]
  },
  {
   "cell_type": "code",
   "execution_count": 7,
   "metadata": {},
   "outputs": [
    {
     "data": {
      "text/latex": [
       "$\\displaystyle \\frac{e \\left(3 g - 2 w - 2 x_{0}\\right)}{3}$"
      ],
      "text/plain": [
       "e*(3*g - 2*w - 2*x0)/3"
      ]
     },
     "execution_count": 7,
     "metadata": {},
     "output_type": "execute_result"
    }
   ],
   "source": [
    "# ex 1 -quarta integral\n",
    "import sympy as sp\n",
    "\n",
    "x = sp.Symbol('x')\n",
    "x0 = sp.Symbol('x0')\n",
    "e = sp.Symbol('e')\n",
    "g = sp.Symbol('g')\n",
    "w = sp.Symbol('w')\n",
    "x1, x2 = x0-e,x0+e\n",
    "f1 = (x+w)*((x+w)*(x-x1)/e-g)*(1/e)\n",
    "f2 = (x+w)*((x+w)*(x2-x)/e-g)*(1/e)\n",
    "int1 = sp.integrate(f1, (x,x1,x0))\n",
    "int2 = sp.integrate(f2, (x,x0,x2))\n",
    "res = sp.simplify(int1-int2)\n",
    "res\n"
   ]
  },
  {
   "cell_type": "code",
   "execution_count": 3,
   "metadata": {},
   "outputs": [
    {
     "data": {
      "text/latex": [
       "$\\displaystyle \\frac{e \\left(e^{2} + 30 g^{2} - 30 g w - 30 g x_{0} + 10 w^{2} + 20 w x_{0} + 10 x_{0}^{2}\\right)}{15}$"
      ],
      "text/plain": [
       "e*(e**2 + 30*g**2 - 30*g*w - 30*g*x0 + 10*w**2 + 20*w*x0 + 10*x0**2)/15"
      ]
     },
     "execution_count": 3,
     "metadata": {},
     "output_type": "execute_result"
    }
   ],
   "source": [
    "# ex 1 - funcional\n",
    "import sympy as sp\n",
    "\n",
    "x = sp.Symbol('x')\n",
    "x0 = sp.Symbol('x0')\n",
    "e = sp.Symbol('e')\n",
    "g = sp.Symbol('g')\n",
    "w = sp.Symbol('w')\n",
    "x1, x2 = x0-e,x0+e\n",
    "f1 = ((x+w)*(x-x1)/e-g)**2\n",
    "f2 = ((x+w)*(x2-x)/e-g)**2\n",
    "int1 = sp.integrate(f1, (x,x1,x0))\n",
    "int2 = sp.integrate(f2, (x,x0,x2))\n",
    "res = sp.simplify(int1+int2)\n",
    "res"
   ]
  }
 ],
 "metadata": {
  "kernelspec": {
   "display_name": "basico",
   "language": "python",
   "name": "python3"
  },
  "language_info": {
   "codemirror_mode": {
    "name": "ipython",
    "version": 3
   },
   "file_extension": ".py",
   "mimetype": "text/x-python",
   "name": "python",
   "nbconvert_exporter": "python",
   "pygments_lexer": "ipython3",
   "version": "3.10.8"
  },
  "orig_nbformat": 4
 },
 "nbformat": 4,
 "nbformat_minor": 2
}
