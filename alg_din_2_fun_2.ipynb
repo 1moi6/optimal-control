{
 "cells": [
  {
   "cell_type": "code",
   "execution_count": null,
   "metadata": {},
   "outputs": [],
   "source": [
    "# ex 1 - primeira integral\n",
    "import sympy as sp\n",
    "\n",
    "x = sp.Symbol('x')\n",
    "x0 = sp.Symbol('x0')\n",
    "e = sp.Symbol('e')\n",
    "g = sp.Symbol('g')\n",
    "f = (x-g)**2\n",
    "int1 = sp.integrate(f, (x,x0-e,x0))\n",
    "int2 = sp.integrate(f, (x,x0,x0+e))\n",
    "res = sp.simplify((1/e)*(int1-int2))\n",
    "res\n"
   ]
  },
  {
   "cell_type": "code",
   "execution_count": null,
   "metadata": {},
   "outputs": [],
   "source": [
    "# ex 1 - segunda integral integral\n",
    "import sympy as sp\n",
    "\n",
    "x = sp.Symbol('x')\n",
    "x0 = sp.Symbol('x0')\n",
    "e = sp.Symbol('e')\n",
    "g = sp.Symbol('g')\n",
    "f = (x-g)\n",
    "int1 = sp.integrate(f, (x,x0-e,x0))\n",
    "int2 = sp.integrate(f, (x,x0,x0+e))\n",
    "res = sp.simplify((1/e)*(int1-int2))\n",
    "res"
   ]
  },
  {
   "cell_type": "code",
   "execution_count": null,
   "metadata": {},
   "outputs": [],
   "source": [
    "# ex 1 - terceira integral integral\n",
    "import sympy as sp\n",
    "\n",
    "x = sp.Symbol('x')\n",
    "x0 = sp.Symbol('x0')\n",
    "e = sp.Symbol('e')\n",
    "g = sp.Symbol('g')\n",
    "U = sp.Symbol('U')\n",
    "f = (x+U-g)**2\n",
    "int1 = sp.integrate(f, (x,x0-e,x0))\n",
    "int2 = sp.integrate(f, (x,x0,x0+e))\n",
    "res = sp.simplify((1/e)*(int1-int2))\n",
    "res"
   ]
  },
  {
   "cell_type": "code",
   "execution_count": null,
   "metadata": {},
   "outputs": [],
   "source": [
    "# ex 1 - funcional\n",
    "import sympy as sp\n",
    "\n",
    "x = sp.Symbol('x')\n",
    "x0 = sp.Symbol('x0')\n",
    "e = sp.Symbol('e')\n",
    "g = sp.Symbol('g')\n",
    "U = sp.Symbol('U')\n",
    "f1 = (x-x0+e)*(x+U-g)**2\n",
    "f2 = (x0+e-x)*(x+U-g)**2\n",
    "int1 = sp.integrate(f1, (x,x0-e,x0))\n",
    "int2 = sp.integrate(f2, (x,x0,x0+e))\n",
    "res = sp.simplify((1/e)*(int1+int2))\n",
    "sp.factor(res)"
   ]
  }
 ],
 "metadata": {
  "language_info": {
   "name": "python"
  },
  "orig_nbformat": 4
 },
 "nbformat": 4,
 "nbformat_minor": 2
}
