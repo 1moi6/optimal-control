{
 "cells": [
  {
   "cell_type": "code",
   "execution_count": 1,
   "metadata": {},
   "outputs": [
    {
     "data": {
      "text/latex": [
       "$\\displaystyle 2 e \\left(g - x_{0}\\right)$"
      ],
      "text/plain": [
       "2*e*(g - x0)"
      ]
     },
     "execution_count": 1,
     "metadata": {},
     "output_type": "execute_result"
    }
   ],
   "source": [
    "# ex 1 - primeira integral\n",
    "import sympy as sp\n",
    "\n",
    "x = sp.Symbol('x')\n",
    "x0 = sp.Symbol('x0')\n",
    "e = sp.Symbol('e')\n",
    "g = sp.Symbol('g')\n",
    "f = (x-g)**2\n",
    "int1 = sp.integrate(f, (x,x0-e,x0))\n",
    "int2 = sp.integrate(f, (x,x0,x0+e))\n",
    "res = sp.simplify((1/e)*(int1-int2))\n",
    "res\n"
   ]
  },
  {
   "cell_type": "code",
   "execution_count": 7,
   "metadata": {},
   "outputs": [
    {
     "data": {
      "text/latex": [
       "$\\displaystyle - e$"
      ],
      "text/plain": [
       "-e"
      ]
     },
     "execution_count": 7,
     "metadata": {},
     "output_type": "execute_result"
    }
   ],
   "source": [
    "# ex 1 - segunda integral integral\n",
    "import sympy as sp\n",
    "\n",
    "x = sp.Symbol('x')\n",
    "x0 = sp.Symbol('x0')\n",
    "e = sp.Symbol('e')\n",
    "g = sp.Symbol('g')\n",
    "f = (x-g)\n",
    "int1 = sp.integrate(f, (x,x0-e,x0))\n",
    "int2 = sp.integrate(f, (x,x0,x0+e))\n",
    "res = sp.simplify((1/e)*(int1-int2))\n",
    "res"
   ]
  },
  {
   "cell_type": "code",
   "execution_count": 8,
   "metadata": {},
   "outputs": [
    {
     "data": {
      "text/latex": [
       "$\\displaystyle 2 e \\left(- U + g - x_{0}\\right)$"
      ],
      "text/plain": [
       "2*e*(-U + g - x0)"
      ]
     },
     "execution_count": 8,
     "metadata": {},
     "output_type": "execute_result"
    }
   ],
   "source": [
    "# ex 1 - terceira integral integral\n",
    "import sympy as sp\n",
    "\n",
    "x = sp.Symbol('x')\n",
    "x0 = sp.Symbol('x0')\n",
    "e = sp.Symbol('e')\n",
    "g = sp.Symbol('g')\n",
    "U = sp.Symbol('U')\n",
    "f = (x+U-g)**2\n",
    "int1 = sp.integrate(f, (x,x0-e,x0))\n",
    "int2 = sp.integrate(f, (x,x0,x0+e))\n",
    "res = sp.simplify((1/e)*(int1-int2))\n",
    "res"
   ]
  },
  {
   "cell_type": "code",
   "execution_count": 17,
   "metadata": {},
   "outputs": [
    {
     "data": {
      "text/latex": [
       "$\\displaystyle \\frac{e \\left(6 U^{2} - 12 U g + 12 U x_{0} + e^{2} + 6 g^{2} - 12 g x_{0} + 6 x_{0}^{2}\\right)}{6}$"
      ],
      "text/plain": [
       "e*(6*U**2 - 12*U*g + 12*U*x0 + e**2 + 6*g**2 - 12*g*x0 + 6*x0**2)/6"
      ]
     },
     "execution_count": 17,
     "metadata": {},
     "output_type": "execute_result"
    }
   ],
   "source": [
    "# ex 1 - funcional\n",
    "import sympy as sp\n",
    "\n",
    "x = sp.Symbol('x')\n",
    "x0 = sp.Symbol('x0')\n",
    "e = sp.Symbol('e')\n",
    "g = sp.Symbol('g')\n",
    "U = sp.Symbol('U')\n",
    "f1 = (x-x0+e)*(x+U-g)**2\n",
    "f2 = (x0+e-x)*(x+U-g)**2\n",
    "int1 = sp.integrate(f1, (x,x0-e,x0))\n",
    "int2 = sp.integrate(f2, (x,x0,x0+e))\n",
    "res = sp.simplify((1/e)*(int1+int2))\n",
    "sp.factor(res)"
   ]
  },
  {
   "cell_type": "code",
   "execution_count": 3,
   "metadata": {},
   "outputs": [
    {
     "data": {
      "text/latex": [
       "$\\displaystyle 2 e \\left(- U - x_{0}\\right)$"
      ],
      "text/plain": [
       "2*e*(-U - x0)"
      ]
     },
     "execution_count": 3,
     "metadata": {},
     "output_type": "execute_result"
    }
   ],
   "source": [
    "# ex 1\n",
    "import sympy as sp\n",
    "\n",
    "x = sp.Symbol('x')\n",
    "x0 = sp.Symbol('x0')\n",
    "e = sp.Symbol('e')\n",
    "U = sp.Symbol('U')\n",
    "f = (U+x)**2\n",
    "int1 = sp.integrate(f, (x,x0-e,x0))\n",
    "int2 = sp.integrate(f, (x,x0,x0+e))\n",
    "res = sp.simplify((1/e)*(int1-int2))\n",
    "res\n"
   ]
  },
  {
   "cell_type": "code",
   "execution_count": 5,
   "metadata": {},
   "outputs": [
    {
     "data": {
      "text/latex": [
       "$\\displaystyle \\frac{e \\left(6 U^{2} + 12 U x_{0} + e^{2} + 6 x_{0}^{2}\\right)}{6}$"
      ],
      "text/plain": [
       "e*(6*U**2 + 12*U*x0 + e**2 + 6*x0**2)/6"
      ]
     },
     "execution_count": 5,
     "metadata": {},
     "output_type": "execute_result"
    }
   ],
   "source": [
    "# ex 1\n",
    "import sympy as sp\n",
    "\n",
    "x = sp.Symbol('x')\n",
    "x0 = sp.Symbol('x0')\n",
    "e = sp.Symbol('e')\n",
    "U = sp.Symbol('U')\n",
    "f1 = (x-(x0-e))*(U+x)**2\n",
    "f2 = ((x0+e)-x)*(U+x)**2\n",
    "int1 = sp.integrate(f1, (x,x0-e,x0))\n",
    "int2 = sp.integrate(f2, (x,x0,x0+e))\n",
    "res = sp.simplify((1/e)*(int1+int2))\n",
    "res\n"
   ]
  },
  {
   "cell_type": "code",
   "execution_count": 16,
   "metadata": {},
   "outputs": [
    {
     "data": {
      "text/latex": [
       "$\\displaystyle e x_{0}$"
      ],
      "text/plain": [
       "e*x0"
      ]
     },
     "execution_count": 16,
     "metadata": {},
     "output_type": "execute_result"
    }
   ],
   "source": [
    "import sympy as sp\n",
    "\n",
    "x = sp.Symbol('x')\n",
    "x0 = sp.Symbol('x0')\n",
    "e = sp.Symbol('e')\n",
    "\n",
    "\n",
    "f1 = x*(x-(x0-e))\n",
    "f2 = x*(x0+e-x)\n",
    "\n",
    "# Integração indefinida\n",
    "int1 = sp.integrate(f1, (x,x0-e,x0))\n",
    "int2 = sp.integrate(f2, (x,x0,x0+e))\n",
    "\n",
    "res = sp.simplify((1/e)*(int1+int2))\n",
    "res\n"
   ]
  },
  {
   "cell_type": "code",
   "execution_count": 17,
   "metadata": {},
   "outputs": [
    {
     "data": {
      "text/latex": [
       "$\\displaystyle - \\frac{e^{2}}{3}$"
      ],
      "text/plain": [
       "-e**2/3"
      ]
     },
     "execution_count": 17,
     "metadata": {},
     "output_type": "execute_result"
    }
   ],
   "source": [
    "fu1 = x**2 \n",
    "intu1 = sp.integrate(fu1, (x,x0-e,x0))\n",
    "intu2 = sp.integrate(fu1, (x,x0,x0+e))\n",
    "resu = sp.simplify((1/e)*(int1-int2))\n",
    "resu\n"
   ]
  }
 ],
 "metadata": {
  "kernelspec": {
   "display_name": "basico",
   "language": "python",
   "name": "python3"
  },
  "language_info": {
   "codemirror_mode": {
    "name": "ipython",
    "version": 3
   },
   "file_extension": ".py",
   "mimetype": "text/x-python",
   "name": "python",
   "nbconvert_exporter": "python",
   "pygments_lexer": "ipython3",
   "version": "3.10.14"
  },
  "orig_nbformat": 4
 },
 "nbformat": 4,
 "nbformat_minor": 2
}
