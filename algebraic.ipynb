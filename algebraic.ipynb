{
 "cells": [
  {
   "cell_type": "code",
   "execution_count": 16,
   "metadata": {},
   "outputs": [
    {
     "data": {
      "text/latex": [
       "$\\displaystyle e x_{0}$"
      ],
      "text/plain": [
       "e*x0"
      ]
     },
     "execution_count": 16,
     "metadata": {},
     "output_type": "execute_result"
    }
   ],
   "source": [
    "import sympy as sp\n",
    "\n",
    "x = sp.Symbol('x')\n",
    "x0 = sp.Symbol('x0')\n",
    "e = sp.Symbol('e')\n",
    "\n",
    "\n",
    "f1 = x*(x-(x0-e))\n",
    "f2 = x*(x0+e-x)\n",
    "\n",
    "# Integração indefinida\n",
    "int1 = sp.integrate(f1, (x,x0-e,x0))\n",
    "int2 = sp.integrate(f2, (x,x0,x0+e))\n",
    "\n",
    "res = sp.simplify((1/e)*(int1+int2))\n",
    "res\n"
   ]
  },
  {
   "cell_type": "code",
   "execution_count": 17,
   "metadata": {},
   "outputs": [
    {
     "data": {
      "text/latex": [
       "$\\displaystyle - \\frac{e^{2}}{3}$"
      ],
      "text/plain": [
       "-e**2/3"
      ]
     },
     "execution_count": 17,
     "metadata": {},
     "output_type": "execute_result"
    }
   ],
   "source": [
    "fu1 = x**2 \n",
    "intu1 = sp.integrate(fu1, (x,x0-e,x0))\n",
    "intu2 = sp.integrate(fu1, (x,x0,x0+e))\n",
    "resu = sp.simplify((1/e)*(int1-int2))\n",
    "resu\n"
   ]
  }
 ],
 "metadata": {
  "kernelspec": {
   "display_name": "basico",
   "language": "python",
   "name": "python3"
  },
  "language_info": {
   "codemirror_mode": {
    "name": "ipython",
    "version": 3
   },
   "file_extension": ".py",
   "mimetype": "text/x-python",
   "name": "python",
   "nbconvert_exporter": "python",
   "pygments_lexer": "ipython3",
   "version": "3.10.8"
  },
  "orig_nbformat": 4
 },
 "nbformat": 4,
 "nbformat_minor": 2
}
