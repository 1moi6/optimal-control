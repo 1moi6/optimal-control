{
 "cells": [
  {
   "cell_type": "code",
   "execution_count": 3,
   "metadata": {},
   "outputs": [
    {
     "data": {
      "text/latex": [
       "$\\displaystyle \\frac{2 e}{3}$"
      ],
      "text/plain": [
       "2*e/3"
      ]
     },
     "execution_count": 3,
     "metadata": {},
     "output_type": "execute_result"
    }
   ],
   "source": [
    "# ex 2 - primeira integral\n",
    "import sympy as sp\n",
    "\n",
    "x = sp.Symbol('x')\n",
    "x0 = sp.Symbol('x0')\n",
    "e = sp.Symbol('e')\n",
    "g = sp.Symbol('g')\n",
    "x1, x2 = x0-e,x0+e\n",
    "f1 = ((x-x1)/e)**2\n",
    "f2 = ((x2-x)/e)**2\n",
    "int1 = sp.integrate(f1, (x,x1,x0))\n",
    "int2 = sp.integrate(f2, (x,x0,x2))\n",
    "res = sp.simplify(int1+int2)\n",
    "res\n"
   ]
  }
 ],
 "metadata": {
  "kernelspec": {
   "display_name": "basico",
   "language": "python",
   "name": "python3"
  },
  "language_info": {
   "codemirror_mode": {
    "name": "ipython",
    "version": 3
   },
   "file_extension": ".py",
   "mimetype": "text/x-python",
   "name": "python",
   "nbconvert_exporter": "python",
   "pygments_lexer": "ipython3",
   "version": "3.10.8"
  },
  "orig_nbformat": 4
 },
 "nbformat": 4,
 "nbformat_minor": 2
}
